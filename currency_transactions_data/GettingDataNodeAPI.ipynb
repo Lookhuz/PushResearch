{
 "cells": [
  {
   "cell_type": "code",
   "execution_count": 2,
   "id": "4e444460-0dc6-4cac-98da-2587d806a0b9",
   "metadata": {},
   "outputs": [
    {
     "name": "stderr",
     "output_type": "stream",
     "text": [
      "Status da resposta: 200\n",
      "Dados recebidos:   participant.cnpjNumber foreignCurrency transactionType     value  \\\n",
      "0         00000000000191             USD          COMPRA  4.908600   \n",
      "1         00000000000191             USD          COMPRA  4.983600   \n",
      "2         00000000000191             USD           VENDA  5.087400   \n",
      "3         00000000000191             USD           VENDA  5.012400   \n",
      "4         00000000000191             EUR          COMPRA  5.309269   \n",
      "\n",
      "    valueUpdateDateTime transactionCategory   targetAudience  \\\n",
      "0  2024-03-22T12:28:13Z   COMERCIO_EXTERIOR   PESSOA_NATURAL   \n",
      "1  2024-03-22T12:28:13Z   COMERCIO_EXTERIOR  PESSOA_JURIDICA   \n",
      "2  2024-03-22T12:28:08Z   COMERCIO_EXTERIOR   PESSOA_NATURAL   \n",
      "3  2024-03-22T12:28:08Z   COMERCIO_EXTERIOR  PESSOA_JURIDICA   \n",
      "4  2024-03-22T12:28:13Z   COMERCIO_EXTERIOR   PESSOA_NATURAL   \n",
      "\n",
      "             lastUpdate  \n",
      "0  2024-03-22T09:28:23Z  \n",
      "1  2024-03-22T09:28:23Z  \n",
      "2  2024-03-22T09:28:23Z  \n",
      "3  2024-03-22T09:28:23Z  \n",
      "4  2024-03-22T09:28:23Z  \n",
      "Status da resposta: 200\n",
      "Dados recebidos:   participant.cnpjNumber foreignCurrency transactionType     value  \\\n",
      "0         00000000000191             USD          COMPRA  4.908100   \n",
      "1         00000000000191             USD          COMPRA  4.983100   \n",
      "2         00000000000191             USD           VENDA  5.086900   \n",
      "3         00000000000191             USD           VENDA  5.011900   \n",
      "4         00000000000191             EUR          COMPRA  5.308238   \n",
      "\n",
      "    valueUpdateDateTime transactionCategory   targetAudience  \\\n",
      "0  2024-03-22T12:28:23Z   COMERCIO_EXTERIOR   PESSOA_NATURAL   \n",
      "1  2024-03-22T12:28:23Z   COMERCIO_EXTERIOR  PESSOA_JURIDICA   \n",
      "2  2024-03-22T12:28:23Z   COMERCIO_EXTERIOR   PESSOA_NATURAL   \n",
      "3  2024-03-22T12:28:23Z   COMERCIO_EXTERIOR  PESSOA_JURIDICA   \n",
      "4  2024-03-22T12:28:23Z   COMERCIO_EXTERIOR   PESSOA_NATURAL   \n",
      "\n",
      "             lastUpdate  \n",
      "0  2024-03-22T09:28:28Z  \n",
      "1  2024-03-22T09:28:28Z  \n",
      "2  2024-03-22T09:28:28Z  \n",
      "3  2024-03-22T09:28:28Z  \n",
      "4  2024-03-22T09:28:28Z  \n"
     ]
    },
    {
     "ename": "KeyboardInterrupt",
     "evalue": "",
     "output_type": "error",
     "traceback": [
      "\u001b[1;31m---------------------------------------------------------------------------\u001b[0m",
      "\u001b[1;31mKeyboardInterrupt\u001b[0m                         Traceback (most recent call last)",
      "Cell \u001b[1;32mIn[2], line 30\u001b[0m\n\u001b[0;32m     27\u001b[0m     data\u001b[38;5;241m.\u001b[39mto_csv(\u001b[38;5;124m'\u001b[39m\u001b[38;5;124mTableData.csv\u001b[39m\u001b[38;5;124m'\u001b[39m, mode\u001b[38;5;241m=\u001b[39m\u001b[38;5;124m'\u001b[39m\u001b[38;5;124ma\u001b[39m\u001b[38;5;124m'\u001b[39m, index\u001b[38;5;241m=\u001b[39m\u001b[38;5;28;01mFalse\u001b[39;00m)\n\u001b[0;32m     28\u001b[0m     first_time \u001b[38;5;241m=\u001b[39m \u001b[38;5;28;01mFalse\u001b[39;00m\n\u001b[1;32m---> 30\u001b[0m \u001b[43mtime\u001b[49m\u001b[38;5;241;43m.\u001b[39;49m\u001b[43msleep\u001b[49m\u001b[43m(\u001b[49m\u001b[38;5;241;43m5\u001b[39;49m\u001b[43m)\u001b[49m\n",
      "\u001b[1;31mKeyboardInterrupt\u001b[0m: "
     ]
    }
   ],
   "source": [
    "#!/usr/bin/env python3\n",
    "\n",
    "import pandas as pd\n",
    "import time\n",
    "import requests\n",
    "import json\n",
    "import sys\n",
    "from io import StringIO\n",
    "from datetime import datetime\n",
    "from pandas import json_normalize\n",
    "\n",
    "start_time = time.time()\n",
    "\n",
    "first_time = not pd.io.common.file_exists('data.csv')\n",
    "\n",
    "while time.time() - start_time < 1 * 60:\n",
    "    response = requests.get('http://localhost:3000/dados')\n",
    "    print(\"Status da resposta:\", response.status_code, file=sys.stderr)\n",
    "\n",
    "    if response.status_code == 200:\n",
    "        json_data = json.loads(response.text)\n",
    "        data_list = json_data['data']\n",
    "        for item in data_list:\n",
    "            item['lastUpdate'] = datetime.now().strftime('%Y-%m-%dT%H:%M:%SZ')\n",
    "        data = json_normalize(data_list)\n",
    "        data = data[['participant.cnpjNumber', 'foreignCurrency', 'transactionType', 'value', 'valueUpdateDateTime', 'transactionCategory', 'targetAudience', 'lastUpdate']]\n",
    "        print(\"Dados recebidos:\", data.head(), file=sys.stderr)\n",
    "        \n",
    "        csv_data = data.to_csv('data.csv', mode='a', index=False, header=first_time)\n",
    "        first_time = False\n",
    "\n",
    "        print(csv_data)\n",
    "\n",
    "    time.sleep(5)\n",
    "\n",
    "pass\n"
   ]
  },
  {
   "cell_type": "code",
   "execution_count": null,
   "id": "90fe3676-3f72-4e1b-9294-bf1e70466e01",
   "metadata": {},
   "outputs": [],
   "source": []
  }
 ],
 "metadata": {
  "kernelspec": {
   "display_name": "Python 3 (ipykernel)",
   "language": "python",
   "name": "python3"
  },
  "language_info": {
   "codemirror_mode": {
    "name": "ipython",
    "version": 3
   },
   "file_extension": ".py",
   "mimetype": "text/x-python",
   "name": "python",
   "nbconvert_exporter": "python",
   "pygments_lexer": "ipython3",
   "version": "3.10.11"
  }
 },
 "nbformat": 4,
 "nbformat_minor": 5
}
