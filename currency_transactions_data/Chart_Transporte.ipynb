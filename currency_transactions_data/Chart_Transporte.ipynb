{
 "cells": [
  {
   "cell_type": "code",
   "execution_count": 2,
   "metadata": {},
   "outputs": [
    {
     "data": {
      "application/vnd.plotly.v1+json": {
       "config": {
        "plotlyServerURL": "https://plot.ly"
       },
       "data": [
        {
         "name": "Value over Time (USD, SELL, PJ, Transporte)",
         "type": "scatter",
         "x": [
          "2024-03-19T18:12:15Z",
          "2024-03-19T18:12:20Z",
          "2024-03-19T18:12:20Z",
          "2024-03-19T18:12:20Z",
          "2024-03-19T18:12:20Z",
          "2024-03-19T18:12:20Z",
          "2024-03-19T18:12:20Z",
          "2024-03-19T18:12:20Z",
          "2024-03-19T18:12:20Z",
          "2024-03-19T18:12:20Z",
          "2024-03-19T18:12:20Z",
          "2024-03-19T18:12:20Z",
          "2024-03-19T18:12:20Z",
          "2024-03-19T18:12:20Z",
          "2024-03-19T18:12:20Z",
          "2024-03-19T18:13:30Z",
          "2024-03-19T18:13:35Z",
          "2024-03-19T18:13:35Z",
          "2024-03-19T18:13:35Z",
          "2024-03-19T18:13:50Z",
          "2024-03-19T18:13:50Z",
          "2024-03-19T18:14:00Z",
          "2024-03-19T18:14:00Z",
          "2024-03-19T18:14:00Z",
          "2024-03-19T18:14:00Z",
          "2024-03-19T18:14:20Z",
          "2024-03-19T18:14:20Z",
          "2024-03-19T18:14:20Z",
          "2024-03-19T18:14:20Z",
          "2024-03-19T18:14:20Z",
          "2024-03-19T18:14:20Z",
          "2024-03-19T18:14:20Z",
          "2024-03-19T18:14:20Z",
          "2024-03-19T18:14:20Z",
          "2024-03-19T18:14:20Z",
          "2024-03-19T18:14:20Z",
          "2024-03-19T18:14:20Z",
          "2024-03-19T18:14:20Z",
          "2024-03-19T18:14:20Z",
          "2024-03-19T18:14:20Z",
          "2024-03-19T18:15:41Z",
          "2024-03-19T18:15:41Z",
          "2024-03-19T18:15:41Z",
          "2024-03-19T18:15:41Z",
          "2024-03-19T18:15:41Z",
          "2024-03-19T18:15:41Z",
          "2024-03-19T18:15:41Z",
          "2024-03-19T18:15:41Z",
          "2024-03-19T18:15:41Z",
          "2024-03-19T18:16:21Z",
          "2024-03-19T18:16:21Z",
          "2024-03-19T18:16:21Z",
          "2024-03-19T18:16:21Z",
          "2024-03-19T18:16:46Z",
          "2024-03-19T18:16:51Z",
          "2024-03-19T18:16:51Z",
          "2024-03-19T18:16:51Z",
          "2024-03-19T18:16:51Z",
          "2024-03-19T18:17:11Z",
          "2024-03-19T18:17:11Z"
         ],
         "xaxis": "x",
         "y": [
          5.0271,
          5.0276,
          5.0276,
          5.0276,
          5.0276,
          5.0276,
          5.0276,
          5.0276,
          5.0276,
          5.0276,
          5.0276,
          5.0276,
          5.0276,
          5.0276,
          5.0276,
          5.0281,
          5.0286,
          5.0286,
          5.0286,
          5.0281,
          5.0281,
          5.0276,
          5.0276,
          5.0276,
          5.0276,
          5.0281,
          5.0281,
          5.0281,
          5.0281,
          5.0281,
          5.0281,
          5.0281,
          5.0281,
          5.0281,
          5.0281,
          5.0281,
          5.0281,
          5.0281,
          5.0281,
          5.0281,
          5.0286,
          5.0286,
          5.0286,
          5.0286,
          5.0286,
          5.0286,
          5.0286,
          5.0286,
          5.0286,
          5.0281,
          5.0281,
          5.0281,
          5.0281,
          5.0276,
          5.0281,
          5.0281,
          5.0281,
          5.0281,
          5.0286,
          5.0286
         ],
         "yaxis": "y"
        },
        {
         "name": "Value over Time (USD, SELL, PN, Transporte)",
         "type": "scatter",
         "x": [
          "2024-03-19T18:12:15Z",
          "2024-03-19T18:12:20Z",
          "2024-03-19T18:12:20Z",
          "2024-03-19T18:12:20Z",
          "2024-03-19T18:12:20Z",
          "2024-03-19T18:12:20Z",
          "2024-03-19T18:12:20Z",
          "2024-03-19T18:12:20Z",
          "2024-03-19T18:12:20Z",
          "2024-03-19T18:12:20Z",
          "2024-03-19T18:12:20Z",
          "2024-03-19T18:12:20Z",
          "2024-03-19T18:12:20Z",
          "2024-03-19T18:12:20Z",
          "2024-03-19T18:12:20Z",
          "2024-03-19T18:13:30Z",
          "2024-03-19T18:13:35Z",
          "2024-03-19T18:13:35Z",
          "2024-03-19T18:13:35Z",
          "2024-03-19T18:13:50Z",
          "2024-03-19T18:13:50Z",
          "2024-03-19T18:14:00Z",
          "2024-03-19T18:14:00Z",
          "2024-03-19T18:14:00Z",
          "2024-03-19T18:14:00Z",
          "2024-03-19T18:14:20Z",
          "2024-03-19T18:14:20Z",
          "2024-03-19T18:14:20Z",
          "2024-03-19T18:14:20Z",
          "2024-03-19T18:14:20Z",
          "2024-03-19T18:14:20Z",
          "2024-03-19T18:14:20Z",
          "2024-03-19T18:14:20Z",
          "2024-03-19T18:14:20Z",
          "2024-03-19T18:14:20Z",
          "2024-03-19T18:14:20Z",
          "2024-03-19T18:14:20Z",
          "2024-03-19T18:14:20Z",
          "2024-03-19T18:14:20Z",
          "2024-03-19T18:14:20Z",
          "2024-03-19T18:15:41Z",
          "2024-03-19T18:15:41Z",
          "2024-03-19T18:15:41Z",
          "2024-03-19T18:15:41Z",
          "2024-03-19T18:15:41Z",
          "2024-03-19T18:15:41Z",
          "2024-03-19T18:15:41Z",
          "2024-03-19T18:15:41Z",
          "2024-03-19T18:15:41Z",
          "2024-03-19T18:16:21Z",
          "2024-03-19T18:16:21Z",
          "2024-03-19T18:16:21Z",
          "2024-03-19T18:16:21Z",
          "2024-03-19T18:16:46Z",
          "2024-03-19T18:16:51Z",
          "2024-03-19T18:16:51Z",
          "2024-03-19T18:16:51Z",
          "2024-03-19T18:16:51Z",
          "2024-03-19T18:17:11Z",
          "2024-03-19T18:17:11Z"
         ],
         "xaxis": "x",
         "y": [
          5.1021,
          5.1026,
          5.1026,
          5.1026,
          5.1026,
          5.1026,
          5.1026,
          5.1026,
          5.1026,
          5.1026,
          5.1026,
          5.1026,
          5.1026,
          5.1026,
          5.1026,
          5.1031,
          5.1036,
          5.1036,
          5.1036,
          5.1031,
          5.1031,
          5.1026,
          5.1026,
          5.1026,
          5.1026,
          5.1031,
          5.1031,
          5.1031,
          5.1031,
          5.1031,
          5.1031,
          5.1031,
          5.1031,
          5.1031,
          5.1031,
          5.1031,
          5.1031,
          5.1031,
          5.1031,
          5.1031,
          5.1036,
          5.1036,
          5.1036,
          5.1036,
          5.1036,
          5.1036,
          5.1036,
          5.1036,
          5.1036,
          5.1031,
          5.1031,
          5.1031,
          5.1031,
          5.1026,
          5.1031,
          5.1031,
          5.1031,
          5.1031,
          5.1036,
          5.1036
         ],
         "yaxis": "y2"
        },
        {
         "name": "Value over Time (USD, BUY, PJ, Transporte)",
         "type": "scatter",
         "x": [
          "2024-03-19T18:11:54Z",
          "2024-03-19T18:12:20Z",
          "2024-03-19T18:12:20Z",
          "2024-03-19T18:12:20Z",
          "2024-03-19T18:12:20Z",
          "2024-03-19T18:12:20Z",
          "2024-03-19T18:12:20Z",
          "2024-03-19T18:12:20Z",
          "2024-03-19T18:12:20Z",
          "2024-03-19T18:12:20Z",
          "2024-03-19T18:12:20Z",
          "2024-03-19T18:12:20Z",
          "2024-03-19T18:12:20Z",
          "2024-03-19T18:12:20Z",
          "2024-03-19T18:12:20Z",
          "2024-03-19T18:13:30Z",
          "2024-03-19T18:13:35Z",
          "2024-03-19T18:13:35Z",
          "2024-03-19T18:13:35Z",
          "2024-03-19T18:13:50Z",
          "2024-03-19T18:13:50Z",
          "2024-03-19T18:14:00Z",
          "2024-03-19T18:14:00Z",
          "2024-03-19T18:14:00Z",
          "2024-03-19T18:14:00Z",
          "2024-03-19T18:14:20Z",
          "2024-03-19T18:14:20Z",
          "2024-03-19T18:14:20Z",
          "2024-03-19T18:14:20Z",
          "2024-03-19T18:14:20Z",
          "2024-03-19T18:14:20Z",
          "2024-03-19T18:14:20Z",
          "2024-03-19T18:14:20Z",
          "2024-03-19T18:14:20Z",
          "2024-03-19T18:14:20Z",
          "2024-03-19T18:14:20Z",
          "2024-03-19T18:14:20Z",
          "2024-03-19T18:14:20Z",
          "2024-03-19T18:14:20Z",
          "2024-03-19T18:14:20Z",
          "2024-03-19T18:15:41Z",
          "2024-03-19T18:15:41Z",
          "2024-03-19T18:15:41Z",
          "2024-03-19T18:15:41Z",
          "2024-03-19T18:15:41Z",
          "2024-03-19T18:15:41Z",
          "2024-03-19T18:15:41Z",
          "2024-03-19T18:15:41Z",
          "2024-03-19T18:15:41Z",
          "2024-03-19T18:16:21Z",
          "2024-03-19T18:16:21Z",
          "2024-03-19T18:16:21Z",
          "2024-03-19T18:16:21Z",
          "2024-03-19T18:16:46Z",
          "2024-03-19T18:16:51Z",
          "2024-03-19T18:16:51Z",
          "2024-03-19T18:16:51Z",
          "2024-03-19T18:16:51Z",
          "2024-03-19T18:17:11Z",
          "2024-03-19T18:17:11Z"
         ],
         "xaxis": "x",
         "y": [
          4.9985,
          4.999,
          4.999,
          4.999,
          4.999,
          4.999,
          4.999,
          4.999,
          4.999,
          4.999,
          4.999,
          4.999,
          4.999,
          4.999,
          4.999,
          4.9995,
          5,
          5,
          5,
          4.9995,
          4.9995,
          4.999,
          4.999,
          4.999,
          4.999,
          4.9995,
          4.9995,
          4.9995,
          4.9995,
          4.9995,
          4.9995,
          4.9995,
          4.9995,
          4.9995,
          4.9995,
          4.9995,
          4.9995,
          4.9995,
          4.9995,
          4.9995,
          5,
          5,
          5,
          5,
          5,
          5,
          5,
          5,
          5,
          4.9995,
          4.9995,
          4.9995,
          4.9995,
          4.999,
          4.9995,
          4.9995,
          4.9995,
          4.9995,
          5,
          5
         ],
         "yaxis": "y"
        },
        {
         "name": "Value over Time (USD, BUY, PN, Transporte)",
         "type": "scatter",
         "x": [
          "2024-03-19T18:11:54Z",
          "2024-03-19T18:12:20Z",
          "2024-03-19T18:12:20Z",
          "2024-03-19T18:12:20Z",
          "2024-03-19T18:12:20Z",
          "2024-03-19T18:12:20Z",
          "2024-03-19T18:12:20Z",
          "2024-03-19T18:12:20Z",
          "2024-03-19T18:12:20Z",
          "2024-03-19T18:12:20Z",
          "2024-03-19T18:12:20Z",
          "2024-03-19T18:12:20Z",
          "2024-03-19T18:12:20Z",
          "2024-03-19T18:12:20Z",
          "2024-03-19T18:12:20Z",
          "2024-03-19T18:13:30Z",
          "2024-03-19T18:13:35Z",
          "2024-03-19T18:13:35Z",
          "2024-03-19T18:13:35Z",
          "2024-03-19T18:13:50Z",
          "2024-03-19T18:13:50Z",
          "2024-03-19T18:14:00Z",
          "2024-03-19T18:14:00Z",
          "2024-03-19T18:14:00Z",
          "2024-03-19T18:14:00Z",
          "2024-03-19T18:14:20Z",
          "2024-03-19T18:14:20Z",
          "2024-03-19T18:14:20Z",
          "2024-03-19T18:14:20Z",
          "2024-03-19T18:14:20Z",
          "2024-03-19T18:14:20Z",
          "2024-03-19T18:14:20Z",
          "2024-03-19T18:14:20Z",
          "2024-03-19T18:14:20Z",
          "2024-03-19T18:14:20Z",
          "2024-03-19T18:14:20Z",
          "2024-03-19T18:14:20Z",
          "2024-03-19T18:14:20Z",
          "2024-03-19T18:14:20Z",
          "2024-03-19T18:14:20Z",
          "2024-03-19T18:15:41Z",
          "2024-03-19T18:15:41Z",
          "2024-03-19T18:15:41Z",
          "2024-03-19T18:15:41Z",
          "2024-03-19T18:15:41Z",
          "2024-03-19T18:15:41Z",
          "2024-03-19T18:15:41Z",
          "2024-03-19T18:15:41Z",
          "2024-03-19T18:15:41Z",
          "2024-03-19T18:16:21Z",
          "2024-03-19T18:16:21Z",
          "2024-03-19T18:16:21Z",
          "2024-03-19T18:16:21Z",
          "2024-03-19T18:16:46Z",
          "2024-03-19T18:16:51Z",
          "2024-03-19T18:16:51Z",
          "2024-03-19T18:16:51Z",
          "2024-03-19T18:16:51Z",
          "2024-03-19T18:17:11Z",
          "2024-03-19T18:17:11Z"
         ],
         "xaxis": "x",
         "y": [
          4.9235,
          4.924,
          4.924,
          4.924,
          4.924,
          4.924,
          4.924,
          4.924,
          4.924,
          4.924,
          4.924,
          4.924,
          4.924,
          4.924,
          4.924,
          4.9245,
          4.925,
          4.925,
          4.925,
          4.9245,
          4.9245,
          4.924,
          4.924,
          4.924,
          4.924,
          4.9245,
          4.9245,
          4.9245,
          4.9245,
          4.9245,
          4.9245,
          4.9245,
          4.9245,
          4.9245,
          4.9245,
          4.9245,
          4.9245,
          4.9245,
          4.9245,
          4.9245,
          4.925,
          4.925,
          4.925,
          4.925,
          4.925,
          4.925,
          4.925,
          4.925,
          4.925,
          4.9245,
          4.9245,
          4.9245,
          4.9245,
          4.924,
          4.9245,
          4.9245,
          4.9245,
          4.9245,
          4.925,
          4.925
         ],
         "yaxis": "y2"
        }
       ],
       "layout": {
        "template": {
         "data": {
          "bar": [
           {
            "error_x": {
             "color": "#2a3f5f"
            },
            "error_y": {
             "color": "#2a3f5f"
            },
            "marker": {
             "line": {
              "color": "#E5ECF6",
              "width": 0.5
             },
             "pattern": {
              "fillmode": "overlay",
              "size": 10,
              "solidity": 0.2
             }
            },
            "type": "bar"
           }
          ],
          "barpolar": [
           {
            "marker": {
             "line": {
              "color": "#E5ECF6",
              "width": 0.5
             },
             "pattern": {
              "fillmode": "overlay",
              "size": 10,
              "solidity": 0.2
             }
            },
            "type": "barpolar"
           }
          ],
          "carpet": [
           {
            "aaxis": {
             "endlinecolor": "#2a3f5f",
             "gridcolor": "white",
             "linecolor": "white",
             "minorgridcolor": "white",
             "startlinecolor": "#2a3f5f"
            },
            "baxis": {
             "endlinecolor": "#2a3f5f",
             "gridcolor": "white",
             "linecolor": "white",
             "minorgridcolor": "white",
             "startlinecolor": "#2a3f5f"
            },
            "type": "carpet"
           }
          ],
          "choropleth": [
           {
            "colorbar": {
             "outlinewidth": 0,
             "ticks": ""
            },
            "type": "choropleth"
           }
          ],
          "contour": [
           {
            "colorbar": {
             "outlinewidth": 0,
             "ticks": ""
            },
            "colorscale": [
             [
              0,
              "#0d0887"
             ],
             [
              0.1111111111111111,
              "#46039f"
             ],
             [
              0.2222222222222222,
              "#7201a8"
             ],
             [
              0.3333333333333333,
              "#9c179e"
             ],
             [
              0.4444444444444444,
              "#bd3786"
             ],
             [
              0.5555555555555556,
              "#d8576b"
             ],
             [
              0.6666666666666666,
              "#ed7953"
             ],
             [
              0.7777777777777778,
              "#fb9f3a"
             ],
             [
              0.8888888888888888,
              "#fdca26"
             ],
             [
              1,
              "#f0f921"
             ]
            ],
            "type": "contour"
           }
          ],
          "contourcarpet": [
           {
            "colorbar": {
             "outlinewidth": 0,
             "ticks": ""
            },
            "type": "contourcarpet"
           }
          ],
          "heatmap": [
           {
            "colorbar": {
             "outlinewidth": 0,
             "ticks": ""
            },
            "colorscale": [
             [
              0,
              "#0d0887"
             ],
             [
              0.1111111111111111,
              "#46039f"
             ],
             [
              0.2222222222222222,
              "#7201a8"
             ],
             [
              0.3333333333333333,
              "#9c179e"
             ],
             [
              0.4444444444444444,
              "#bd3786"
             ],
             [
              0.5555555555555556,
              "#d8576b"
             ],
             [
              0.6666666666666666,
              "#ed7953"
             ],
             [
              0.7777777777777778,
              "#fb9f3a"
             ],
             [
              0.8888888888888888,
              "#fdca26"
             ],
             [
              1,
              "#f0f921"
             ]
            ],
            "type": "heatmap"
           }
          ],
          "heatmapgl": [
           {
            "colorbar": {
             "outlinewidth": 0,
             "ticks": ""
            },
            "colorscale": [
             [
              0,
              "#0d0887"
             ],
             [
              0.1111111111111111,
              "#46039f"
             ],
             [
              0.2222222222222222,
              "#7201a8"
             ],
             [
              0.3333333333333333,
              "#9c179e"
             ],
             [
              0.4444444444444444,
              "#bd3786"
             ],
             [
              0.5555555555555556,
              "#d8576b"
             ],
             [
              0.6666666666666666,
              "#ed7953"
             ],
             [
              0.7777777777777778,
              "#fb9f3a"
             ],
             [
              0.8888888888888888,
              "#fdca26"
             ],
             [
              1,
              "#f0f921"
             ]
            ],
            "type": "heatmapgl"
           }
          ],
          "histogram": [
           {
            "marker": {
             "pattern": {
              "fillmode": "overlay",
              "size": 10,
              "solidity": 0.2
             }
            },
            "type": "histogram"
           }
          ],
          "histogram2d": [
           {
            "colorbar": {
             "outlinewidth": 0,
             "ticks": ""
            },
            "colorscale": [
             [
              0,
              "#0d0887"
             ],
             [
              0.1111111111111111,
              "#46039f"
             ],
             [
              0.2222222222222222,
              "#7201a8"
             ],
             [
              0.3333333333333333,
              "#9c179e"
             ],
             [
              0.4444444444444444,
              "#bd3786"
             ],
             [
              0.5555555555555556,
              "#d8576b"
             ],
             [
              0.6666666666666666,
              "#ed7953"
             ],
             [
              0.7777777777777778,
              "#fb9f3a"
             ],
             [
              0.8888888888888888,
              "#fdca26"
             ],
             [
              1,
              "#f0f921"
             ]
            ],
            "type": "histogram2d"
           }
          ],
          "histogram2dcontour": [
           {
            "colorbar": {
             "outlinewidth": 0,
             "ticks": ""
            },
            "colorscale": [
             [
              0,
              "#0d0887"
             ],
             [
              0.1111111111111111,
              "#46039f"
             ],
             [
              0.2222222222222222,
              "#7201a8"
             ],
             [
              0.3333333333333333,
              "#9c179e"
             ],
             [
              0.4444444444444444,
              "#bd3786"
             ],
             [
              0.5555555555555556,
              "#d8576b"
             ],
             [
              0.6666666666666666,
              "#ed7953"
             ],
             [
              0.7777777777777778,
              "#fb9f3a"
             ],
             [
              0.8888888888888888,
              "#fdca26"
             ],
             [
              1,
              "#f0f921"
             ]
            ],
            "type": "histogram2dcontour"
           }
          ],
          "mesh3d": [
           {
            "colorbar": {
             "outlinewidth": 0,
             "ticks": ""
            },
            "type": "mesh3d"
           }
          ],
          "parcoords": [
           {
            "line": {
             "colorbar": {
              "outlinewidth": 0,
              "ticks": ""
             }
            },
            "type": "parcoords"
           }
          ],
          "pie": [
           {
            "automargin": true,
            "type": "pie"
           }
          ],
          "scatter": [
           {
            "fillpattern": {
             "fillmode": "overlay",
             "size": 10,
             "solidity": 0.2
            },
            "type": "scatter"
           }
          ],
          "scatter3d": [
           {
            "line": {
             "colorbar": {
              "outlinewidth": 0,
              "ticks": ""
             }
            },
            "marker": {
             "colorbar": {
              "outlinewidth": 0,
              "ticks": ""
             }
            },
            "type": "scatter3d"
           }
          ],
          "scattercarpet": [
           {
            "marker": {
             "colorbar": {
              "outlinewidth": 0,
              "ticks": ""
             }
            },
            "type": "scattercarpet"
           }
          ],
          "scattergeo": [
           {
            "marker": {
             "colorbar": {
              "outlinewidth": 0,
              "ticks": ""
             }
            },
            "type": "scattergeo"
           }
          ],
          "scattergl": [
           {
            "marker": {
             "colorbar": {
              "outlinewidth": 0,
              "ticks": ""
             }
            },
            "type": "scattergl"
           }
          ],
          "scattermapbox": [
           {
            "marker": {
             "colorbar": {
              "outlinewidth": 0,
              "ticks": ""
             }
            },
            "type": "scattermapbox"
           }
          ],
          "scatterpolar": [
           {
            "marker": {
             "colorbar": {
              "outlinewidth": 0,
              "ticks": ""
             }
            },
            "type": "scatterpolar"
           }
          ],
          "scatterpolargl": [
           {
            "marker": {
             "colorbar": {
              "outlinewidth": 0,
              "ticks": ""
             }
            },
            "type": "scatterpolargl"
           }
          ],
          "scatterternary": [
           {
            "marker": {
             "colorbar": {
              "outlinewidth": 0,
              "ticks": ""
             }
            },
            "type": "scatterternary"
           }
          ],
          "surface": [
           {
            "colorbar": {
             "outlinewidth": 0,
             "ticks": ""
            },
            "colorscale": [
             [
              0,
              "#0d0887"
             ],
             [
              0.1111111111111111,
              "#46039f"
             ],
             [
              0.2222222222222222,
              "#7201a8"
             ],
             [
              0.3333333333333333,
              "#9c179e"
             ],
             [
              0.4444444444444444,
              "#bd3786"
             ],
             [
              0.5555555555555556,
              "#d8576b"
             ],
             [
              0.6666666666666666,
              "#ed7953"
             ],
             [
              0.7777777777777778,
              "#fb9f3a"
             ],
             [
              0.8888888888888888,
              "#fdca26"
             ],
             [
              1,
              "#f0f921"
             ]
            ],
            "type": "surface"
           }
          ],
          "table": [
           {
            "cells": {
             "fill": {
              "color": "#EBF0F8"
             },
             "line": {
              "color": "white"
             }
            },
            "header": {
             "fill": {
              "color": "#C8D4E3"
             },
             "line": {
              "color": "white"
             }
            },
            "type": "table"
           }
          ]
         },
         "layout": {
          "annotationdefaults": {
           "arrowcolor": "#2a3f5f",
           "arrowhead": 0,
           "arrowwidth": 1
          },
          "autotypenumbers": "strict",
          "coloraxis": {
           "colorbar": {
            "outlinewidth": 0,
            "ticks": ""
           }
          },
          "colorscale": {
           "diverging": [
            [
             0,
             "#8e0152"
            ],
            [
             0.1,
             "#c51b7d"
            ],
            [
             0.2,
             "#de77ae"
            ],
            [
             0.3,
             "#f1b6da"
            ],
            [
             0.4,
             "#fde0ef"
            ],
            [
             0.5,
             "#f7f7f7"
            ],
            [
             0.6,
             "#e6f5d0"
            ],
            [
             0.7,
             "#b8e186"
            ],
            [
             0.8,
             "#7fbc41"
            ],
            [
             0.9,
             "#4d9221"
            ],
            [
             1,
             "#276419"
            ]
           ],
           "sequential": [
            [
             0,
             "#0d0887"
            ],
            [
             0.1111111111111111,
             "#46039f"
            ],
            [
             0.2222222222222222,
             "#7201a8"
            ],
            [
             0.3333333333333333,
             "#9c179e"
            ],
            [
             0.4444444444444444,
             "#bd3786"
            ],
            [
             0.5555555555555556,
             "#d8576b"
            ],
            [
             0.6666666666666666,
             "#ed7953"
            ],
            [
             0.7777777777777778,
             "#fb9f3a"
            ],
            [
             0.8888888888888888,
             "#fdca26"
            ],
            [
             1,
             "#f0f921"
            ]
           ],
           "sequentialminus": [
            [
             0,
             "#0d0887"
            ],
            [
             0.1111111111111111,
             "#46039f"
            ],
            [
             0.2222222222222222,
             "#7201a8"
            ],
            [
             0.3333333333333333,
             "#9c179e"
            ],
            [
             0.4444444444444444,
             "#bd3786"
            ],
            [
             0.5555555555555556,
             "#d8576b"
            ],
            [
             0.6666666666666666,
             "#ed7953"
            ],
            [
             0.7777777777777778,
             "#fb9f3a"
            ],
            [
             0.8888888888888888,
             "#fdca26"
            ],
            [
             1,
             "#f0f921"
            ]
           ]
          },
          "colorway": [
           "#636efa",
           "#EF553B",
           "#00cc96",
           "#ab63fa",
           "#FFA15A",
           "#19d3f3",
           "#FF6692",
           "#B6E880",
           "#FF97FF",
           "#FECB52"
          ],
          "font": {
           "color": "#2a3f5f"
          },
          "geo": {
           "bgcolor": "white",
           "lakecolor": "white",
           "landcolor": "#E5ECF6",
           "showlakes": true,
           "showland": true,
           "subunitcolor": "white"
          },
          "hoverlabel": {
           "align": "left"
          },
          "hovermode": "closest",
          "mapbox": {
           "style": "light"
          },
          "paper_bgcolor": "white",
          "plot_bgcolor": "#E5ECF6",
          "polar": {
           "angularaxis": {
            "gridcolor": "white",
            "linecolor": "white",
            "ticks": ""
           },
           "bgcolor": "#E5ECF6",
           "radialaxis": {
            "gridcolor": "white",
            "linecolor": "white",
            "ticks": ""
           }
          },
          "scene": {
           "xaxis": {
            "backgroundcolor": "#E5ECF6",
            "gridcolor": "white",
            "gridwidth": 2,
            "linecolor": "white",
            "showbackground": true,
            "ticks": "",
            "zerolinecolor": "white"
           },
           "yaxis": {
            "backgroundcolor": "#E5ECF6",
            "gridcolor": "white",
            "gridwidth": 2,
            "linecolor": "white",
            "showbackground": true,
            "ticks": "",
            "zerolinecolor": "white"
           },
           "zaxis": {
            "backgroundcolor": "#E5ECF6",
            "gridcolor": "white",
            "gridwidth": 2,
            "linecolor": "white",
            "showbackground": true,
            "ticks": "",
            "zerolinecolor": "white"
           }
          },
          "shapedefaults": {
           "line": {
            "color": "#2a3f5f"
           }
          },
          "ternary": {
           "aaxis": {
            "gridcolor": "white",
            "linecolor": "white",
            "ticks": ""
           },
           "baxis": {
            "gridcolor": "white",
            "linecolor": "white",
            "ticks": ""
           },
           "bgcolor": "#E5ECF6",
           "caxis": {
            "gridcolor": "white",
            "linecolor": "white",
            "ticks": ""
           }
          },
          "title": {
           "x": 0.05
          },
          "xaxis": {
           "automargin": true,
           "gridcolor": "white",
           "linecolor": "white",
           "ticks": "",
           "title": {
            "standoff": 15
           },
           "zerolinecolor": "white",
           "zerolinewidth": 2
          },
          "yaxis": {
           "automargin": true,
           "gridcolor": "white",
           "linecolor": "white",
           "ticks": "",
           "title": {
            "standoff": 15
           },
           "zerolinecolor": "white",
           "zerolinewidth": 2
          }
         }
        },
        "title": {
         "text": "Value Over Time (USD, BUY e SELL, Transporte, PJ e PN)"
        },
        "xaxis": {
         "anchor": "y",
         "domain": [
          0,
          0.94
         ],
         "title": {
          "text": "TimeStamp"
         }
        },
        "yaxis": {
         "anchor": "x",
         "domain": [
          0,
          1
         ],
         "nticks": 20,
         "range": [
          4.9235,
          5.1036
         ],
         "tickformat": ".3f",
         "title": {
          "text": "Value"
         }
        },
        "yaxis2": {
         "anchor": "x",
         "nticks": 20,
         "overlaying": "y",
         "range": [
          4.9235,
          5.1036
         ],
         "side": "right",
         "tickformat": ".3f"
        }
       }
      }
     },
     "metadata": {},
     "output_type": "display_data"
    }
   ],
   "source": [
    "import pandas as pd\n",
    "import plotly.graph_objects as go\n",
    "from plotly.subplots import make_subplots\n",
    "\n",
    "# Create figure with secondary y-axis\n",
    "fig = make_subplots(specs=[[{\"secondary_y\": True}]])\n",
    "\n",
    "pj_sell = pd.read_csv('transporte/Trans_PJ_Venda.csv')\n",
    "pn_sell = pd.read_csv('transporte/Trans_PN_Venda.csv')\n",
    "pj_buy = pd.read_csv('transporte/Trans_PJ_Compra.csv')\n",
    "pn_buy = pd.read_csv('transporte/Trans_PN_Compra.csv')\n",
    "\n",
    "# Add traces\n",
    "fig.add_trace(\n",
    "    go.Scatter(x=pj_sell['valueUpdateDateTime'], y=pj_sell['value'], name=\"Value over Time (USD, SELL, PJ, Transporte)\"),\n",
    "    secondary_y=False,\n",
    ")\n",
    "\n",
    "fig.add_trace(\n",
    "    go.Scatter(x=pn_sell['valueUpdateDateTime'], y=pn_sell['value'], name=\"Value over Time (USD, SELL, PN, Transporte)\"),\n",
    "    secondary_y=True,\n",
    ")\n",
    "\n",
    "fig.add_trace(\n",
    "    go.Scatter(x=pj_buy['valueUpdateDateTime'], y=pj_buy['value'], name=\"Value over Time (USD, BUY, PJ, Transporte)\"),\n",
    "    secondary_y=False,\n",
    ")\n",
    "\n",
    "fig.add_trace(\n",
    "    go.Scatter(x=pn_buy['valueUpdateDateTime'], y=pn_buy['value'], name=\"Value over Time (USD, BUY, PN, Transporte)\"),\n",
    "    secondary_y=True,\n",
    ")\n",
    "\n",
    "# Add figure title\n",
    "fig.update_layout(\n",
    "    title_text=\"Value Over Time (USD, BUY e SELL, Transporte, PJ e PN)\"\n",
    ")\n",
    "\n",
    "# Set x-axis title\n",
    "fig.update_xaxes(title_text=\"TimeStamp\")\n",
    "\n",
    "# Set y-axes titles\n",
    "fig.update_yaxes(title_text=\"Value\", secondary_y=False)\n",
    "\n",
    "# Update y-axes to show the full range of data\n",
    "fig.update_yaxes(range=[min(pj_sell['value'].min(), pn_sell['value'].min(), pj_buy['value'].min(), pn_buy['value'].min()), max(pj_sell['value'].max(), pn_sell['value'].max(), pj_buy['value'].max(), pn_buy['value'].max())], secondary_y=False)\n",
    "fig.update_yaxes(range=[min(pj_sell['value'].min(), pn_sell['value'].min(), pj_buy['value'].min(), pn_buy['value'].min()), max(pj_sell['value'].max(), pn_sell['value'].max(), pj_buy['value'].max(), pn_buy['value'].max())], secondary_y=True)\n",
    "\n",
    "# Increase the number of y-ticks\n",
    "fig.update_yaxes(tickformat=\".3f\", nticks=20, secondary_y=False)\n",
    "fig.update_yaxes(tickformat=\".3f\", nticks=20, secondary_y=True)\n",
    "\n",
    "fig.show()"
   ]
  },
  {
   "cell_type": "code",
   "execution_count": 2,
   "metadata": {},
   "outputs": [
    {
     "data": {
      "image/png": "[encoded data removed]",
      "text/plain": [
       "<Figure size 1000x500 with 1 Axes>"
      ]
     },
     "metadata": {},
     "output_type": "display_data"
    }
   ],
   "source": [
    "import pandas as pd\n",
    "import matplotlib.pyplot as plt\n",
    "import matplotlib.dates as mdates\n",
    "import matplotlib.ticker as ticker\n",
    "\n",
    "# Load the data\n",
    "pj_sell = pd.read_csv('transporte/Trans_PJ_Venda.csv')\n",
    "pn_sell = pd.read_csv('transporte/Trans_PN_Venda.csv')\n",
    "pj_buy = pd.read_csv('transporte/Trans_PJ_Compra.csv')\n",
    "pn_buy = pd.read_csv('transporte/Trans_PN_Compra.csv')\n",
    "\n",
    "# Convert 'valueUpdateDateTime' to datetime\n",
    "pj_sell['valueUpdateDateTime'] = pd.to_datetime(pj_sell['valueUpdateDateTime'])\n",
    "pn_sell['valueUpdateDateTime'] = pd.to_datetime(pn_sell['valueUpdateDateTime'])\n",
    "pj_buy['valueUpdateDateTime'] = pd.to_datetime(pj_buy['valueUpdateDateTime'])\n",
    "pn_buy['valueUpdateDateTime'] = pd.to_datetime(pn_buy['valueUpdateDateTime'])\n",
    "\n",
    "# Create a new figure and a set of subplots\n",
    "fig, ax1 = plt.subplots(figsize=(10, 5))\n",
    "\n",
    "# Plot the data on the first y-axis\n",
    "ax1.plot(pj_sell['valueUpdateDateTime'], pj_sell['value'], label=\"Value over Time (USD, SELL, PJ, Transporte)\")\n",
    "ax1.plot(pj_buy['valueUpdateDateTime'], pj_buy['value'], label=\"Value over Time (USD, BUY, PJ, Transporte)\")\n",
    "ax1.plot(pn_sell['valueUpdateDateTime'], pn_sell['value'], label=\"Value over Time (USD, SELL, PN, Transporte)\")\n",
    "ax1.plot(pn_buy['valueUpdateDateTime'], pn_buy['value'], label=\"Value over Time (USD, BUY, PN, Transporte)\")\n",
    "\n",
    "# Set the titles of the axes\n",
    "ax1.set_xlabel('TimeStamp')\n",
    "ax1.set_ylabel('Value')\n",
    "\n",
    "# Set the title of the plot\n",
    "plt.title(\"Value Over Time (USD, BUY e SELL, Transporte, PJ e PN)\")\n",
    "\n",
    "# Set the legend\n",
    "lines, labels = ax1.get_legend_handles_labels()\n",
    "ax1.legend(lines, labels, loc='upper left', bbox_to_anchor=(1.05, 1))\n",
    "\n",
    "# Increase the number of decimal places on the y-axis ticks\n",
    "ax1.yaxis.set_major_formatter(ticker.FormatStrFormatter('%.4f'))\n",
    "\n",
    "# Set the format of the x-axis to display the hour, minute, and second\n",
    "ax1.yaxis.set_major_locator(ticker.MaxNLocator(20))\n",
    "ax1.xaxis.set_major_locator(ticker.MaxNLocator(8))\n",
    "ax1.xaxis.set_major_formatter(mdates.DateFormatter('%H:%M:%S'))\n",
    "\n",
    "# Synchronize the y-axes\n",
    "ax1.set_ylim([min(pj_sell['value'].min(), pn_sell['value'].min(), pj_buy['value'].min(), pn_buy['value'].min()), max(pj_sell['value'].max(), pn_sell['value'].max(), pj_buy['value'].max(), pn_buy['value'].max())])\n",
    "\n",
    "# Show the plot\n",
    "plt.grid(True)\n",
    "plt.tight_layout()\n",
    "plt.show()\n"
   ]
  }
 ],
 "metadata": {
  "kernelspec": {
   "display_name": "Python 3",
   "language": "python",
   "name": "python3"
  },
  "language_info": {
   "codemirror_mode": {
    "name": "ipython",
    "version": 3
   },
   "file_extension": ".py",
   "mimetype": "text/x-python",
   "name": "python",
   "nbconvert_exporter": "python",
   "pygments_lexer": "ipython3",
   "version": "3.10.11"
  }
 },
 "nbformat": 4,
 "nbformat_minor": 2
}
